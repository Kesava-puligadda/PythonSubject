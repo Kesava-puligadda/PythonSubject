{
  "nbformat": 4,
  "nbformat_minor": 0,
  "metadata": {
    "colab": {
      "name": "DL_ICP10.ipynb",
      "provenance": []
    },
    "kernelspec": {
      "name": "python3",
      "display_name": "Python 3"
    },
    "language_info": {
      "name": "python"
    }
  },
  "cells": [
    {
      "cell_type": "code",
      "metadata": {
        "id": "zlc84ZhYwq7B"
      },
      "source": [
        "from keras.models import Sequential\n",
        "from keras import layers\n",
        "from keras.preprocessing.text import Tokenizer\n",
        "import pandas as pd\n",
        "from sklearn import preprocessing\n",
        "from sklearn.model_selection import train_test_split\n"
      ],
      "execution_count": 132,
      "outputs": []
    },
    {
      "cell_type": "code",
      "metadata": {
        "colab": {
          "base_uri": "https://localhost:8080/"
        },
        "id": "f69v2aqNyHIc",
        "outputId": "e42aaabb-95a8-43fb-d23d-b0ac1833cf3c"
      },
      "source": [
        "df = pd.read_csv('imdb_master.csv',encoding='latin-1')\n",
        "print(df.head())\n",
        "sentences = df['review'].values\n",
        "pureSentences = sentences\n",
        "y = df['label'].values\n"
      ],
      "execution_count": 133,
      "outputs": [
        {
          "output_type": "stream",
          "text": [
            "   Unnamed: 0  type  ... label         file\n",
            "0           0  test  ...   neg      0_2.txt\n",
            "1           1  test  ...   neg  10000_4.txt\n",
            "2           2  test  ...   neg  10001_1.txt\n",
            "3           3  test  ...   neg  10002_3.txt\n",
            "4           4  test  ...   neg  10003_3.txt\n",
            "\n",
            "[5 rows x 5 columns]\n"
          ],
          "name": "stdout"
        }
      ]
    },
    {
      "cell_type": "code",
      "metadata": {
        "id": "XM1_mPeLzX9-"
      },
      "source": [
        "#tokenizing data\n",
        "tokenizer = Tokenizer(num_words=2000)\n",
        "tokenizer.fit_on_texts(sentences)"
      ],
      "execution_count": 134,
      "outputs": []
    },
    {
      "cell_type": "code",
      "metadata": {
        "id": "u5K2qF52jp2z"
      },
      "source": [
        "#getting the vocabulary of data\n",
        "sentences = tokenizer.texts_to_matrix(sentences)"
      ],
      "execution_count": 135,
      "outputs": []
    },
    {
      "cell_type": "code",
      "metadata": {
        "id": "tMCAOPY5zi8x"
      },
      "source": [
        "import numpy as np\n",
        "le = preprocessing.LabelEncoder()\n",
        "y = le.fit_transform(y)\n",
        "X_train, X_test, y_train, y_test = train_test_split(sentences, y, test_size=0.25, random_state=1000)\n",
        "input_dim=np.prod(X_train.shape[1:])"
      ],
      "execution_count": 143,
      "outputs": []
    },
    {
      "cell_type": "code",
      "metadata": {
        "colab": {
          "base_uri": "https://localhost:8080/"
        },
        "id": "0KzoO3_Jzq9h",
        "outputId": "fbdb1642-d8fc-4434-a67b-7830413f6d44"
      },
      "source": [
        "# Number of features\n",
        "\n",
        "model = Sequential()\n",
        "model.add(layers.Dense(300,input_dim=input_dim, activation='relu'))\n",
        "model.add(layers.Dense(3, activation='sigmoid'))\n",
        "model.compile(loss='sparse_categorical_crossentropy',optimizer='adam',metrics=['acc'])\n",
        "charitra=model.fit(X_train,y_train, epochs=5, verbose=True, validation_data=(X_test,y_test), batch_size=256)"
      ],
      "execution_count": 139,
      "outputs": [
        {
          "output_type": "stream",
          "text": [
            "Epoch 1/5\n",
            "293/293 [==============================] - 6s 20ms/step - loss: 0.9478 - acc: 0.4957 - val_loss: 0.8543 - val_acc: 0.5168\n",
            "Epoch 2/5\n",
            "293/293 [==============================] - 6s 19ms/step - loss: 0.8087 - acc: 0.5596 - val_loss: 0.8417 - val_acc: 0.5178\n",
            "Epoch 3/5\n",
            "293/293 [==============================] - 6s 20ms/step - loss: 0.7254 - acc: 0.6445 - val_loss: 0.8558 - val_acc: 0.5164\n",
            "Epoch 4/5\n",
            "293/293 [==============================] - 6s 19ms/step - loss: 0.5758 - acc: 0.7713 - val_loss: 0.9144 - val_acc: 0.5057\n",
            "Epoch 5/5\n",
            "293/293 [==============================] - 6s 20ms/step - loss: 0.3749 - acc: 0.8927 - val_loss: 1.0142 - val_acc: 0.5045\n"
          ],
          "name": "stdout"
        }
      ]
    },
    {
      "cell_type": "markdown",
      "metadata": {
        "id": "a17vPinJ3wfR"
      },
      "source": [
        "############### PROGRAM2 ##################"
      ]
    },
    {
      "cell_type": "code",
      "metadata": {
        "id": "dnnrkX6Wlg28"
      },
      "source": [
        "\n",
        "from keras.preprocessing.sequence import pad_sequences\n",
        "\n",
        "#declaring the sentence values\n",
        "pureSentences = sentences\n",
        "sentences = df['review'].values\n",
        "y = df['label'].values"
      ],
      "execution_count": 144,
      "outputs": []
    },
    {
      "cell_type": "code",
      "metadata": {
        "id": "9Kd2ttFm3op6"
      },
      "source": [
        "#Preparing data for embedding  layer:\n",
        "#Adding  embedding  layer in keras:\n",
        "max_review_len= max([len(s.split()) for s in pureSentences])\n",
        "vocab_size= len(tokenizer.word_index)+1\n",
        "sentencesPre = tokenizer.texts_to_sequences(pureSentences)\n",
        "padded_docs= pad_sequences(sentencesPre,maxlen=max_review_len)\n",
        "le = preprocessing.LabelEncoder()\n",
        "y = le.fit_transform(y)\n",
        "X_train, X_test, y_train, y_test = train_test_split(padded_docs, y, test_size=0.25, random_state=1000)"
      ],
      "execution_count": null,
      "outputs": []
    },
    {
      "cell_type": "code",
      "metadata": {
        "id": "XHeZiRKRrk-r"
      },
      "source": [
        "#Creating and fitting the model\n",
        "from keras.layers import Embedding, Flatten\n",
        "model = Sequential()\n",
        "model.add(Embedding(vocab_size, 50, input_length=max_review_len))\n",
        "model.add(Flatten())\n",
        "model.add(layers.Dense(300, activation='relu',input_dim=max_review_len))\n",
        "model.add(layers.Dense(3, activation='softmax'))\n",
        "model.compile(loss='sparse_categorical_crossentropy',optimizer='adam',metrics=['acc'])"
      ],
      "execution_count": 141,
      "outputs": []
    },
    {
      "cell_type": "code",
      "metadata": {
        "colab": {
          "base_uri": "https://localhost:8080/"
        },
        "id": "wIipdU_JuSiW",
        "outputId": "2885b22a-9513-4112-826d-e08fd1262d09"
      },
      "source": [
        "Charithra=model.fit(X_train,y_train, epochs=5, verbose=True, validation_data=(X_test,y_test), batch_size=256)"
      ],
      "execution_count": 142,
      "outputs": [
        {
          "output_type": "stream",
          "text": [
            "Epoch 1/5\n",
            "293/293 [==============================] - 440s 1s/step - loss: 1.5930 - acc: 0.4513 - val_loss: 0.8580 - val_acc: 0.5028\n",
            "Epoch 2/5\n",
            "293/293 [==============================] - 433s 1s/step - loss: 0.7827 - acc: 0.5924 - val_loss: 0.8775 - val_acc: 0.4916\n",
            "Epoch 3/5\n",
            "293/293 [==============================] - 446s 2s/step - loss: 0.6166 - acc: 0.7374 - val_loss: 0.9863 - val_acc: 0.4848\n",
            "Epoch 4/5\n",
            "293/293 [==============================] - 449s 2s/step - loss: 0.4394 - acc: 0.8313 - val_loss: 1.1860 - val_acc: 0.4812\n",
            "Epoch 5/5\n",
            "293/293 [==============================] - 450s 2s/step - loss: 0.2973 - acc: 0.8990 - val_loss: 1.5024 - val_acc: 0.4783\n"
          ],
          "name": "stdout"
        }
      ]
    },
    {
      "cell_type": "markdown",
      "metadata": {
        "id": "Ij4LT9Fz39u3"
      },
      "source": [
        "######################## PROGRAM 3 ##############################"
      ]
    },
    {
      "cell_type": "code",
      "metadata": {
        "id": "etwv2tdZ4Ceg"
      },
      "source": [
        "from sklearn.datasets import fetch_20newsgroups\n",
        "from keras.preprocessing.text import Tokenizer\n",
        "import numpy as np\n",
        "from keras.preprocessing.sequence import pad_sequences\n",
        "twenty_train = fetch_20newsgroups(subset='train', shuffle=True)\n",
        "sentences= twenty_train.data\n",
        "y=twenty_train.target"
      ],
      "execution_count": 148,
      "outputs": []
    },
    {
      "cell_type": "code",
      "metadata": {
        "id": "Z4biQ-AZ47x1"
      },
      "source": [
        "#Tokenizing the data\n",
        "tokenizer = Tokenizer(num_words=2000)\n",
        "tokenizer.fit_on_texts(sentences)"
      ],
      "execution_count": 149,
      "outputs": []
    },
    {
      "cell_type": "code",
      "metadata": {
        "id": "5JCGAUci5L37"
      },
      "source": [
        "#Preparing data for embedding  layer:\n",
        "#Adding  embedding  layer in keras:\n",
        "max_review_len= max([len(s.split()) for s in sentences])\n",
        "vocab_size= len(tokenizer.word_index)+1\n",
        "sentencesPre = tokenizer.texts_to_sequences(sentences)\n",
        "padded_docs= pad_sequences(sentencesPre,maxlen=max_review_len)\n",
        "X_train, X_test, y_train, y_test = train_test_split(padded_docs, y, test_size=0.25, random_state=1000)"
      ],
      "execution_count": 150,
      "outputs": []
    },
    {
      "cell_type": "code",
      "metadata": {
        "id": "EyJ3m0ZC5u_G"
      },
      "source": [
        "#Creating and fitting the model\n",
        "from keras.layers import Embedding, Flatten\n",
        "n = Sequential()\n",
        "n.add(Embedding(vocab_size, 50, input_length=max_review_len))\n",
        "n.add(Flatten())\n",
        "n.add(layers.Dense(300, activation='relu',input_dim=max_review_len))\n",
        "n.add(layers.Dense(20, activation='softmax'))\n",
        "n.compile(loss='sparse_categorical_crossentropy',optimizer='adam',metrics=['acc'])"
      ],
      "execution_count": 152,
      "outputs": []
    },
    {
      "cell_type": "code",
      "metadata": {
        "colab": {
          "base_uri": "https://localhost:8080/"
        },
        "id": "pGVUtzWv6AI2",
        "outputId": "f1e96f7d-0090-455a-efc2-bdf2229fd0c7"
      },
      "source": [
        "charithra2=n.fit(X_train,y_train, epochs=5, verbose=True, validation_data=(X_test,y_test), batch_size=256)"
      ],
      "execution_count": 153,
      "outputs": [
        {
          "output_type": "stream",
          "text": [
            "Epoch 1/5\n",
            "34/34 [==============================] - 241s 7s/step - loss: 14.9472 - acc: 0.0501 - val_loss: 3.1488 - val_acc: 0.0650\n",
            "Epoch 2/5\n",
            "34/34 [==============================] - 232s 7s/step - loss: 3.0220 - acc: 0.0725 - val_loss: 2.9699 - val_acc: 0.0562\n",
            "Epoch 3/5\n",
            "34/34 [==============================] - 237s 7s/step - loss: 2.9456 - acc: 0.0607 - val_loss: 2.9524 - val_acc: 0.0452\n",
            "Epoch 4/5\n",
            "34/34 [==============================] - 233s 7s/step - loss: 2.8939 - acc: 0.0712 - val_loss: 2.8737 - val_acc: 0.0626\n",
            "Epoch 5/5\n",
            "34/34 [==============================] - 235s 7s/step - loss: 2.8012 - acc: 0.0813 - val_loss: 2.7781 - val_acc: 0.0742\n"
          ],
          "name": "stdout"
        }
      ]
    }
  ]
}