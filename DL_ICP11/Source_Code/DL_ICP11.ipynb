{
  "nbformat": 4,
  "nbformat_minor": 0,
  "metadata": {
    "colab": {
      "name": "DL_ICP11.ipynb",
      "provenance": []
    },
    "kernelspec": {
      "name": "python3",
      "display_name": "Python 3"
    },
    "language_info": {
      "name": "python"
    }
  },
  "cells": [
    {
      "cell_type": "code",
      "metadata": {
        "id": "PT4Dq2HCStXd"
      },
      "source": [
        "# Importing Required lib files for CNN Simple model\n",
        "import numpy as np\n",
        "import keras\n",
        "from keras.datasets import cifar10\n",
        "from keras.models import Sequential\n",
        "from keras.layers import Dense\n",
        "from keras.layers import Dropout\n",
        "from keras.layers import Flatten\n",
        "from keras.constraints import maxnorm\n",
        "from keras.optimizers import SGD\n",
        "from keras.layers.convolutional import Conv2D\n",
        "from keras.layers.convolutional import MaxPooling2D\n",
        "from keras.utils import np_utils\n",
        "from keras import backend as K"
      ],
      "execution_count": 2,
      "outputs": []
    },
    {
      "cell_type": "code",
      "metadata": {
        "id": "E0BlvMAwUvxB"
      },
      "source": [
        "# Take some random seed here\n",
        "seed = 7\n",
        "np.random.seed(seed)"
      ],
      "execution_count": 3,
      "outputs": []
    },
    {
      "cell_type": "code",
      "metadata": {
        "colab": {
          "base_uri": "https://localhost:8080/"
        },
        "id": "n2zKZNDRVCN8",
        "outputId": "c0d4a236-2992-4494-9036-385474d156e7"
      },
      "source": [
        "# Here we load the given data\n",
        "(X_train, y_train), (X_test, y_test) = cifar10.load_data()"
      ],
      "execution_count": 4,
      "outputs": [
        {
          "output_type": "stream",
          "text": [
            "Downloading data from https://www.cs.toronto.edu/~kriz/cifar-10-python.tar.gz\n",
            "170500096/170498071 [==============================] - 6s 0us/step\n"
          ],
          "name": "stdout"
        }
      ]
    },
    {
      "cell_type": "code",
      "metadata": {
        "id": "gRKHjmYZYIDb"
      },
      "source": [
        "# Now we make Normalize inputs from integer to float\n",
        "X_train = X_train.astype('float32')\n",
        "X_test = X_test.astype('float32')\n",
        "X_train = X_train / 255.0\n",
        "X_test = X_test / 255.0"
      ],
      "execution_count": 5,
      "outputs": []
    },
    {
      "cell_type": "code",
      "metadata": {
        "id": "QpIWWMH_YcLr"
      },
      "source": [
        "# do the hotcoding for output\n",
        "y_train = np_utils.to_categorical(y_train)\n",
        "y_test = np_utils.to_categorical(y_test)\n",
        "num_classes = y_test.shape[1]"
      ],
      "execution_count": 6,
      "outputs": []
    },
    {
      "cell_type": "code",
      "metadata": {
        "id": "GaG9fJ8_Z36j"
      },
      "source": [
        "# Here we are Creating the model\n",
        "model = Sequential()\n",
        "model.add(Conv2D(32, (3, 3), input_shape=(32, 32, 3), padding='same', activation='relu', kernel_constraint=maxnorm(3)))\n",
        "model.add(Dropout(0.2))\n",
        "model.add(Conv2D(32, (3, 3), activation='relu', padding='same', kernel_constraint=maxnorm(3)))\n",
        "model.add(MaxPooling2D(pool_size=(2, 2)))\n",
        "model.add(Conv2D(64, (3, 3), activation='relu', padding='same', kernel_constraint=maxnorm(3)))\n",
        "model.add(Dropout(0.2))\n",
        "model.add(Conv2D(64, (3, 3), activation='relu', padding='same', kernel_constraint=maxnorm(3)))\n",
        "model.add(MaxPooling2D(pool_size=(2, 2)))\n",
        "model.add(Conv2D(128, (3, 3), activation='relu', padding='same', kernel_constraint=maxnorm(3)))\n",
        "model.add(Dropout(0.2))\n",
        "model.add(Conv2D(128, (3, 3), activation='relu', padding='same', kernel_constraint=maxnorm(3)))\n",
        "model.add(MaxPooling2D(pool_size=(2, 2)))\n"
      ],
      "execution_count": 7,
      "outputs": []
    },
    {
      "cell_type": "code",
      "metadata": {
        "id": "mr4Sg8tVmO5K"
      },
      "source": [
        "#Here we use flatten model to make flatten the arrays when they are loaded\n",
        "model.add(Flatten())\n",
        "model.add(Dropout(0.2))\n",
        "model.add(Dense(1024, activation='relu', kernel_constraint=maxnorm(3)))\n",
        "model.add(Dropout(0.2))"
      ],
      "execution_count": 8,
      "outputs": []
    },
    {
      "cell_type": "code",
      "metadata": {
        "id": "WChWasn2mq6a"
      },
      "source": [
        "#now we add relu and sofmax models and see train and test data\n",
        "model.add(Dense(512, activation='relu', kernel_constraint=maxnorm(3)))\n",
        "model.add(Dropout(0.2))\n",
        "model.add(Dense(10, activation='softmax'))"
      ],
      "execution_count": 9,
      "outputs": []
    },
    {
      "cell_type": "code",
      "metadata": {
        "colab": {
          "base_uri": "https://localhost:8080/"
        },
        "id": "Q8-uZ4_qm7Pr",
        "outputId": "f81268a6-089e-4d86-829d-c936b545cc97"
      },
      "source": [
        "#Now we Compile the above model\n",
        "epochs = 15\n",
        "lrate = 0.01\n",
        "decay = lrate/epochs\n",
        "sgd = SGD(lr=lrate, momentum=0.9, decay=decay, nesterov=False)\n",
        "model.compile(loss='categorical_crossentropy', optimizer=sgd, metrics=['accuracy'])\n",
        "print(model.summary())"
      ],
      "execution_count": 10,
      "outputs": [
        {
          "output_type": "stream",
          "text": [
            "Model: \"sequential\"\n",
            "_________________________________________________________________\n",
            "Layer (type)                 Output Shape              Param #   \n",
            "=================================================================\n",
            "conv2d (Conv2D)              (None, 32, 32, 32)        896       \n",
            "_________________________________________________________________\n",
            "dropout (Dropout)            (None, 32, 32, 32)        0         \n",
            "_________________________________________________________________\n",
            "conv2d_1 (Conv2D)            (None, 32, 32, 32)        9248      \n",
            "_________________________________________________________________\n",
            "max_pooling2d (MaxPooling2D) (None, 16, 16, 32)        0         \n",
            "_________________________________________________________________\n",
            "conv2d_2 (Conv2D)            (None, 16, 16, 64)        18496     \n",
            "_________________________________________________________________\n",
            "dropout_1 (Dropout)          (None, 16, 16, 64)        0         \n",
            "_________________________________________________________________\n",
            "conv2d_3 (Conv2D)            (None, 16, 16, 64)        36928     \n",
            "_________________________________________________________________\n",
            "max_pooling2d_1 (MaxPooling2 (None, 8, 8, 64)          0         \n",
            "_________________________________________________________________\n",
            "conv2d_4 (Conv2D)            (None, 8, 8, 128)         73856     \n",
            "_________________________________________________________________\n",
            "dropout_2 (Dropout)          (None, 8, 8, 128)         0         \n",
            "_________________________________________________________________\n",
            "conv2d_5 (Conv2D)            (None, 8, 8, 128)         147584    \n",
            "_________________________________________________________________\n",
            "max_pooling2d_2 (MaxPooling2 (None, 4, 4, 128)         0         \n",
            "_________________________________________________________________\n",
            "flatten (Flatten)            (None, 2048)              0         \n",
            "_________________________________________________________________\n",
            "dropout_3 (Dropout)          (None, 2048)              0         \n",
            "_________________________________________________________________\n",
            "dense (Dense)                (None, 1024)              2098176   \n",
            "_________________________________________________________________\n",
            "dropout_4 (Dropout)          (None, 1024)              0         \n",
            "_________________________________________________________________\n",
            "dense_1 (Dense)              (None, 512)               524800    \n",
            "_________________________________________________________________\n",
            "dropout_5 (Dropout)          (None, 512)               0         \n",
            "_________________________________________________________________\n",
            "dense_2 (Dense)              (None, 10)                5130      \n",
            "=================================================================\n",
            "Total params: 2,915,114\n",
            "Trainable params: 2,915,114\n",
            "Non-trainable params: 0\n",
            "_________________________________________________________________\n",
            "None\n"
          ],
          "name": "stdout"
        }
      ]
    },
    {
      "cell_type": "code",
      "metadata": {
        "colab": {
          "base_uri": "https://localhost:8080/"
        },
        "id": "nDQvisrpnL_3",
        "outputId": "8f063c66-efcd-4d74-9851-b1fe011e7365"
      },
      "source": [
        "# Finally we will Fit the above model to get loss and accuracy values\n",
        "\n",
        "Charithra = model.fit(X_train, y_train, validation_data=(X_test, y_test), epochs=epochs, batch_size=32)"
      ],
      "execution_count": 11,
      "outputs": [
        {
          "output_type": "stream",
          "text": [
            "Epoch 1/15\n",
            "1563/1563 [==============================] - 414s 264ms/step - loss: 2.0537 - accuracy: 0.2281 - val_loss: 1.5367 - val_accuracy: 0.4360\n",
            "Epoch 2/15\n",
            "1563/1563 [==============================] - 411s 263ms/step - loss: 1.4935 - accuracy: 0.4567 - val_loss: 1.3443 - val_accuracy: 0.5118\n",
            "Epoch 3/15\n",
            "1563/1563 [==============================] - 421s 269ms/step - loss: 1.2873 - accuracy: 0.5359 - val_loss: 1.2274 - val_accuracy: 0.5516\n",
            "Epoch 4/15\n",
            "1563/1563 [==============================] - 421s 269ms/step - loss: 1.1540 - accuracy: 0.5856 - val_loss: 1.0941 - val_accuracy: 0.6044\n",
            "Epoch 5/15\n",
            "1563/1563 [==============================] - 419s 268ms/step - loss: 1.0545 - accuracy: 0.6196 - val_loss: 0.9462 - val_accuracy: 0.6642\n",
            "Epoch 6/15\n",
            "1563/1563 [==============================] - 418s 268ms/step - loss: 0.9689 - accuracy: 0.6549 - val_loss: 0.8975 - val_accuracy: 0.6835\n",
            "Epoch 7/15\n",
            "1563/1563 [==============================] - 416s 266ms/step - loss: 0.8983 - accuracy: 0.6775 - val_loss: 0.8536 - val_accuracy: 0.6999\n",
            "Epoch 8/15\n",
            "1563/1563 [==============================] - 413s 264ms/step - loss: 0.8364 - accuracy: 0.7015 - val_loss: 0.8866 - val_accuracy: 0.6928\n",
            "Epoch 9/15\n",
            "1563/1563 [==============================] - 413s 264ms/step - loss: 0.8026 - accuracy: 0.7135 - val_loss: 0.8112 - val_accuracy: 0.7207\n",
            "Epoch 10/15\n",
            "1563/1563 [==============================] - 412s 264ms/step - loss: 0.7565 - accuracy: 0.7316 - val_loss: 0.7697 - val_accuracy: 0.7311\n",
            "Epoch 11/15\n",
            "1563/1563 [==============================] - 412s 263ms/step - loss: 0.7167 - accuracy: 0.7435 - val_loss: 0.7532 - val_accuracy: 0.7382\n",
            "Epoch 12/15\n",
            "1563/1563 [==============================] - 411s 263ms/step - loss: 0.6983 - accuracy: 0.7532 - val_loss: 0.7167 - val_accuracy: 0.7512\n",
            "Epoch 13/15\n",
            "1563/1563 [==============================] - 411s 263ms/step - loss: 0.6716 - accuracy: 0.7649 - val_loss: 0.7311 - val_accuracy: 0.7473\n",
            "Epoch 14/15\n",
            "1563/1563 [==============================] - 411s 263ms/step - loss: 0.6389 - accuracy: 0.7735 - val_loss: 0.7039 - val_accuracy: 0.7586\n",
            "Epoch 15/15\n",
            "1563/1563 [==============================] - 411s 263ms/step - loss: 0.6247 - accuracy: 0.7794 - val_loss: 0.6854 - val_accuracy: 0.7646\n"
          ],
          "name": "stdout"
        }
      ]
    },
    {
      "cell_type": "code",
      "metadata": {
        "colab": {
          "base_uri": "https://localhost:8080/"
        },
        "id": "YU9p-CK-oIWD",
        "outputId": "da89ac90-c62a-4974-bb85-88cd73aa5e0c"
      },
      "source": [
        "#Final evaluation of the model to get accuracy\n",
        "scores = model.evaluate(X_test, y_test, verbose=0)\n",
        "print(\"The Accuracy percentage level is: %.2f%%\" % (scores[1]*100))"
      ],
      "execution_count": 12,
      "outputs": [
        {
          "output_type": "stream",
          "text": [
            "The Accuracy percentage level is: 76.46%\n"
          ],
          "name": "stdout"
        }
      ]
    },
    {
      "cell_type": "code",
      "metadata": {
        "id": "K-C_6DHrlQlW"
      },
      "source": [
        "model.save_weights('FILE.h5')"
      ],
      "execution_count": 13,
      "outputs": []
    },
    {
      "cell_type": "code",
      "metadata": {
        "id": "81egfXxdlXRq"
      },
      "source": [
        "model.load_weights('FILE.h5')"
      ],
      "execution_count": 14,
      "outputs": []
    },
    {
      "cell_type": "code",
      "metadata": {
        "id": "Zha04uKwlkjy"
      },
      "source": [
        "#This is the 2nd question from here\n",
        "import numpy\n",
        "labels=['airplane','automobile','bird','cat','deer','dog','frog','horse','ship','truck']"
      ],
      "execution_count": 36,
      "outputs": []
    },
    {
      "cell_type": "code",
      "metadata": {
        "colab": {
          "base_uri": "https://localhost:8080/"
        },
        "id": "s1Tu08KGmLJs",
        "outputId": "2532adef-fd52-43a2-db87-683f0e376169"
      },
      "source": [
        "#Predicting the images using the taken model\n",
        "class_pred = model.predict(X_test[:4], batch_size=32)\n",
        "print(labels)\n",
        "print(\"images propapability for the initial images:\\n\",class_pred[:4])\n",
        "\n",
        "#now we start getting the labels for images\n",
        "labels_pred = numpy.argmax(class_pred,axis=1)\n",
        "for i in range(4):\n",
        "    j=labels_pred[i]\n",
        "    print(\"prediction for the class for \"+str(i+1)+\" image:\",labels[j]+'\\n')\n"
      ],
      "execution_count": 38,
      "outputs": [
        {
          "output_type": "stream",
          "text": [
            "['airplane', 'automobile', 'bird', 'cat', 'deer', 'dog', 'frog', 'horse', 'ship', 'truck']\n",
            "images propapability for the initial images:\n",
            " [[5.9529594e-03 3.7644050e-04 5.7112831e-03 8.1038767e-01 3.2945431e-03\n",
            "  1.4033793e-01 2.5595717e-02 3.6513607e-03 4.0382743e-03 6.5378379e-04]\n",
            " [9.3761535e-04 2.9101393e-03 1.0379886e-06 4.2861375e-06 5.5522077e-07\n",
            "  2.6557038e-07 1.0594032e-06 1.8138431e-07 9.9609190e-01 5.2934942e-05]\n",
            " [4.5033466e-02 1.3746313e-02 6.8011001e-04 3.0702914e-04 3.7832241e-04\n",
            "  2.0995415e-04 1.8164073e-04 2.8679927e-04 9.3755215e-01 1.6242693e-03]\n",
            " [8.9622992e-01 4.0749554e-03 6.0969468e-02 5.2419631e-03 7.4378760e-03\n",
            "  3.8824763e-04 5.2305474e-04 7.4181793e-04 2.1148747e-02 3.2438331e-03]]\n",
            "prediction for the class for 1 image: cat\n",
            "\n",
            "prediction for the class for 2 image: ship\n",
            "\n",
            "prediction for the class for 3 image: ship\n",
            "\n",
            "prediction for the class for 4 image: airplane\n",
            "\n"
          ],
          "name": "stdout"
        }
      ]
    },
    {
      "cell_type": "code",
      "metadata": {
        "colab": {
          "base_uri": "https://localhost:8080/"
        },
        "id": "uwjiC3xWnSg9",
        "outputId": "de70611e-6e16-46c5-adee-3c03bd6ed726"
      },
      "source": [
        "#prediction for the accuracy of images\n",
        "labels_pred1=labels_pred\n",
        "y_test1=y_test[:4]\n",
        "y_test1=y_test1.ravel()\n",
        "for i in range(4):\n",
        "    j=y_test1[i]\n",
        "    actual_value = y_test[[i],:]\n",
        "    actual_class = str(np.argmax(actual_value))\n",
        "    actual_class = int(actual_class)\n",
        "    print(\"prediction for the Actual Class for \"+str(i+1)+\" image:\",labels[actual_class]+'\\n')"
      ],
      "execution_count": 41,
      "outputs": [
        {
          "output_type": "stream",
          "text": [
            "prediction for the Actual Class for 1 image: cat\n",
            "\n",
            "prediction for the Actual Class for 2 image: ship\n",
            "\n",
            "prediction for the Actual Class for 3 image: ship\n",
            "\n",
            "prediction for the Actual Class for 4 image: airplane\n",
            "\n"
          ],
          "name": "stdout"
        }
      ]
    },
    {
      "cell_type": "code",
      "metadata": {
        "colab": {
          "base_uri": "https://localhost:8080/",
          "height": 295
        },
        "id": "g7jdLPFMppZQ",
        "outputId": "9eb045dd-dd1a-416f-ed1c-cec3189299be"
      },
      "source": [
        "#Here 3rd question starts\n",
        "#now we find the accuracy with taken model\n",
        "import matplotlib.pyplot as plt\n",
        "\n",
        "plt.plot(Charithra.history['accuracy'])\n",
        "plt.plot(Charithra.history['val_accuracy'])\n",
        "\n",
        "plt.title('model accuracy')\n",
        "\n",
        "plt.ylabel('accuracy')\n",
        "plt.xlabel('epoch')\n",
        "\n",
        "plt.legend(['train', 'test'], loc='upper left')\n",
        "plt.show()"
      ],
      "execution_count": 49,
      "outputs": [
        {
          "output_type": "display_data",
          "data": {
            "image/png": "[encoded data removed]",
            "text/plain": [
              "<Figure size 432x288 with 1 Axes>"
            ]
          },
          "metadata": {
            "tags": [],
            "needs_background": "light"
          }
        }
      ]
    },
    {
      "cell_type": "code",
      "metadata": {
        "colab": {
          "base_uri": "https://localhost:8080/",
          "height": 295
        },
        "id": "4rUJEmxmq-VK",
        "outputId": "358040e6-3e84-4bdf-d008-1c3e1afd5343"
      },
      "source": [
        "#Now we define loss of the taken model\n",
        "plt.plot(Charithra.history['loss'])\n",
        "plt.plot(Charithra.history['val_loss'])\n",
        "plt.title('model loss')\n",
        "\n",
        "plt.ylabel('loss')\n",
        "plt.xlabel('epoch')\n",
        "\n",
        "plt.legend(['train', 'test'], loc='upper right')\n",
        "plt.show()"
      ],
      "execution_count": 51,
      "outputs": [
        {
          "output_type": "display_data",
          "data": {
            "image/png": "[encoded data removed]",
            "text/plain": [
              "<Figure size 432x288 with 1 Axes>"
            ]
          },
          "metadata": {
            "tags": [],
            "needs_background": "light"
          }
        }
      ]
    }
  ]
}