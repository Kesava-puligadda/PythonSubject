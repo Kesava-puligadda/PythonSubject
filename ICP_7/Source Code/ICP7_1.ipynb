{
  "nbformat": 4,
  "nbformat_minor": 0,
  "metadata": {
    "colab": {
      "name": "ICP7_1.ipynb",
      "provenance": []
    },
    "kernelspec": {
      "name": "python3",
      "display_name": "Python 3"
    },
    "language_info": {
      "name": "python"
    }
  },
  "cells": [
    {
      "cell_type": "code",
      "metadata": {
        "id": "dg0N16OQrm3q"
      },
      "source": [
        "####### Here initially we will import the required libraries #######\n",
        "\n",
        "from sklearn.datasets import fetch_20newsgroups\n",
        "from sklearn.naive_bayes import MultinomialNB\n",
        "from sklearn.feature_extraction.text import TfidfVectorizer ,CountVectorizer\n",
        "from sklearn.pipeline import Pipeline\n",
        "from sklearn import metrics\n",
        "from sklearn.svm import SVC\n",
        "from sklearn import svm\n",
        "\n"
      ],
      "execution_count": 66,
      "outputs": []
    },
    {
      "cell_type": "code",
      "metadata": {
        "id": "gC9HtutSs7cU"
      },
      "source": [
        "#here we are reading the given data\n",
        "twenty_train = fetch_20newsgroups(subset='train', shuffle=True)"
      ],
      "execution_count": 67,
      "outputs": []
    },
    {
      "cell_type": "code",
      "metadata": {
        "id": "pb6bGKCQuXEk"
      },
      "source": [
        "#Here we are transforming the data\n",
        "tfidf_Vector = TfidfVectorizer()\n",
        "X_train_tfidf = tfidf_Vector.fit_transform(twenty_train.data)"
      ],
      "execution_count": 68,
      "outputs": []
    },
    {
      "cell_type": "code",
      "metadata": {
        "colab": {
          "base_uri": "https://localhost:8080/"
        },
        "id": "UOBmfFDpxev8",
        "outputId": "cc404369-927b-4efd-a341-5bd6e7425c60"
      },
      "source": [
        "#Buliding the classifier Multinomial\n",
        "clf = MultinomialNB()\n",
        "clf.fit(X_train_tfidf, twenty_train.target)"
      ],
      "execution_count": 69,
      "outputs": [
        {
          "output_type": "execute_result",
          "data": {
            "text/plain": [
              "MultinomialNB(alpha=1.0, class_prior=None, fit_prior=True)"
            ]
          },
          "metadata": {
            "tags": []
          },
          "execution_count": 69
        }
      ]
    },
    {
      "cell_type": "code",
      "metadata": {
        "id": "d6JbzNcczBEp"
      },
      "source": [
        "#Here we are evaluating the data\n",
        "twenty_test = fetch_20newsgroups(subset='test', shuffle=True)\n",
        "X_test_tfidf = tfidf_Vector.transform(twenty_test.data)"
      ],
      "execution_count": 70,
      "outputs": []
    },
    {
      "cell_type": "code",
      "metadata": {
        "colab": {
          "base_uri": "https://localhost:8080/"
        },
        "id": "VMKGOhHwzWmS",
        "outputId": "17fe07de-1840-43c7-ecf4-3414c19b1de9"
      },
      "source": [
        "#predecting data and finding Accuracy\n",
        "predicted = clf.predict(X_test_tfidf) \n",
        "Mscore = metrics.accuracy_score(twenty_test.target, predicted)\n",
        "print('The Multinomial score is : ', Mscore)"
      ],
      "execution_count": 71,
      "outputs": [
        {
          "output_type": "stream",
          "text": [
            "The Multinomial score is :  0.7738980350504514\n"
          ],
          "name": "stdout"
        }
      ]
    },
    {
      "cell_type": "code",
      "metadata": {
        "colab": {
          "base_uri": "https://localhost:8080/"
        },
        "id": "yxM_pXgF5IjI",
        "outputId": "bfe7a3eb-09dd-4eb3-828e-e503073e5293"
      },
      "source": [
        "#Building the classifier and shifting it from svm to svc\n",
        "from sklearn import svm\n",
        "\n",
        "SVM = svm.SVC(C=1.0, kernel='linear', degree=3, gamma='auto')\n",
        "svc.fit(X_train_tfidf, twenty_train.target)\n",
        "\n",
        "acc_knn = round(svc.score(X_train_tfidf, twenty_train.target) * 100, 2)\n",
        "print(\"Accuracy with SVM Classifier is :\", acc_knn / 100)"
      ],
      "execution_count": 73,
      "outputs": [
        {
          "output_type": "stream",
          "text": [
            "Accuracy with SVM Classifier is : 0.9978\n"
          ],
          "name": "stdout"
        }
      ]
    },
    {
      "cell_type": "code",
      "metadata": {
        "id": "MXEAG_ei6ppm"
      },
      "source": [
        "tfidf_Vector = TfidfVectorizer()\n",
        "twenty_train = fetch_20newsgroups(subset='train', shuffle=True)\n",
        "tfidf_Vector_bigram = TfidfVectorizer(ngram_range=(1, 3))\n",
        "#Now we are Transorming the data here\n",
        "X_train_tfidf_bigram = tfidf_Vector_bigram.fit_transform(twenty_train.data)\n"
      ],
      "execution_count": 74,
      "outputs": []
    },
    {
      "cell_type": "code",
      "metadata": {
        "colab": {
          "base_uri": "https://localhost:8080/"
        },
        "id": "wg2aG7wL-_wV",
        "outputId": "b873dc2f-e254-4e25-9818-12c2a050d004"
      },
      "source": [
        "#Buliding the MultinomialNB Classifier here\n",
        "clf_bigram = MultinomialNB()\n",
        "clf_bigram.fit(X_train_tfidf_bigram, twenty_train.target)"
      ],
      "execution_count": 75,
      "outputs": [
        {
          "output_type": "execute_result",
          "data": {
            "text/plain": [
              "MultinomialNB(alpha=1.0, class_prior=None, fit_prior=True)"
            ]
          },
          "metadata": {
            "tags": []
          },
          "execution_count": 75
        }
      ]
    },
    {
      "cell_type": "code",
      "metadata": {
        "id": "xPW_nW1D9fTl"
      },
      "source": [
        "#Evaluating and predicting the data\n",
        "twenty_test_bigram = fetch_20newsgroups(subset='test', shuffle=True)\n",
        "X_test_tfidf_bigram = tfidf_Vector_bigram.transform(twenty_test.data)\n",
        "\n",
        "predicted_bigram = clf_bigram.predict(X_test_tfidf_bigram)"
      ],
      "execution_count": 76,
      "outputs": []
    },
    {
      "cell_type": "code",
      "metadata": {
        "colab": {
          "base_uri": "https://localhost:8080/"
        },
        "id": "2XOjelkytrO9",
        "outputId": "f5491a22-8610-4e18-d7d9-69e13e50d38f"
      },
      "source": [
        "#Building svc classifier and finding accuracy for it\n",
        "tfidf_Vector_stopwords = TfidfVectorizer(stop_words='english')\n",
        "X_train_tfidf_stopwords = tfidf_Vector_stopwords.fit_transform(twenty_train.data)\n",
        "clf_stopwords = MultinomialNB()\n",
        "clf_stopwords.fit(X_train_tfidf_stopwords, twenty_train.target)"
      ],
      "execution_count": 77,
      "outputs": [
        {
          "output_type": "execute_result",
          "data": {
            "text/plain": [
              "MultinomialNB(alpha=1.0, class_prior=None, fit_prior=True)"
            ]
          },
          "metadata": {
            "tags": []
          },
          "execution_count": 77
        }
      ]
    },
    {
      "cell_type": "code",
      "metadata": {
        "id": "Ej_zuM7lytKd"
      },
      "source": [
        "#Evaluating and predicting data\n",
        "twenty_test_stopwords = fetch_20newsgroups(subset='test', shuffle=True)\n",
        "X_test_tfidf_stopwords = tfidf_Vector_stopwords.transform(twenty_test.data)\n",
        "predicted_stopwords = clf_stopwords.predict(X_test_tfidf_stopwords)"
      ],
      "execution_count": 80,
      "outputs": []
    },
    {
      "cell_type": "code",
      "metadata": {
        "colab": {
          "base_uri": "https://localhost:8080/"
        },
        "id": "jqdvnMQs2TsF",
        "outputId": "765fb1c3-7531-4234-f796-597a521e59dc"
      },
      "source": [
        "#shifting the classifier SVM to SVC an finding the accuracy for both\n",
        "Mscore_stopwords = round(metrics.accuracy_score(twenty_test_bigram.target, predicted_stopwords), 4)\n",
        "print(\"Accuracy  using MultinomialNB classifier  : \", Mscore_stopwords)\n",
        "\n",
        "from sklearn.neighbors import KNeighborsClassifier\n",
        "svc = KNeighborsClassifier(n_neighbors=2)\n",
        "svc.fit(X_train_tfidf_stopwords, twenty_train.target)\n",
        "\n",
        "acc_knn_stopwords = round(svc.score(X_train_tfidf_stopwords, twenty_train.target) * 100, 2)\n",
        "print(\"Accuracy using SVC classifier  :\", acc_knn_stopwords / 100)"
      ],
      "execution_count": 83,
      "outputs": [
        {
          "output_type": "stream",
          "text": [
            "Accuracy  using MultinomialNB classifier  :  0.8169\n",
            "Accuracy using SVC classifier  : 0.9244\n"
          ],
          "name": "stdout"
        }
      ]
    },
    {
      "cell_type": "code",
      "metadata": {
        "colab": {
          "base_uri": "https://localhost:8080/"
        },
        "id": "tK2OA8dy9ZUj",
        "outputId": "e9ef660e-2e34-4af1-b703-2865fef82638"
      },
      "source": [
        "#Below we are publishing all the results we got\n",
        "print('Accuracy using MultinomialNB Classifier : ' ,Mscore)\n",
        "print('  ')\n",
        "print('Accuracy with stopwords(English) using MultinominalNB Classifier: ' ,Mscore_stopwords)\n",
        "print('  ')\n",
        "print('Accuracy using SVM Classifier : ' ,acc_knn / 100)\n",
        "print('  ')\n",
        "print('Accuracy with stopwords(English) using SVM Classifier: ' ,acc_knn_stopwords / 100)"
      ],
      "execution_count": 84,
      "outputs": [
        {
          "output_type": "stream",
          "text": [
            "Accuracy using MultinomialNB Classifier :  0.7738980350504514\n",
            "  \n",
            "Accuracy with stopwords(English) using MultinominalNB Classifier:  0.8169\n",
            "  \n",
            "Accuracy using SVM Classifier :  0.9978\n",
            "  \n",
            "Accuracy with stopwords(English) using SVM Classifier:  0.9244\n"
          ],
          "name": "stdout"
        }
      ]
    }
  ]
}